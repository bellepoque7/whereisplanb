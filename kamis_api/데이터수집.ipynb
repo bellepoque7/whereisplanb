{
 "cells": [
  {
   "cell_type": "code",
   "execution_count": null,
   "metadata": {},
   "outputs": [],
   "source": [
    "from web_api_kamis import *\n",
    "import pandas as pd\n",
    "import time\n",
    "Flag =True\n",
    "code_df = pd.read_csv('./Data/category_detail_code.csv', encoding='euc-kr')\n",
    "for category_detail_code in code_df['품목코드']:\n",
    "    start = time.time()\n",
    "    my_df = pd.DataFrame()\n",
    "    pr_name = code_df[code_df['품목코드'] == category_detail_code]['품목명'].iloc[0]\n",
    "    if Flag:\n",
    "        if pr_name == '갓':\n",
    "            Flag=False\n",
    "        continue\n",
    "        \n",
    "    print(pr_name,end ='')\n",
    "    for date in get_date(3):\n",
    "        df = kamis_api_1(category_detail_code = str(category_detail_code), regday= date)     \n",
    "        df['날짜'] = date\n",
    "        my_df = pd.concat([my_df,df])\n",
    "\n",
    "    file_name = './Data/' + pr_name + '_230408_3yr.csv'    \n",
    "    my_df.to_csv(file_name)\n",
    "    print(time.time() - start)\n",
    "    print(time.sleep(3))\n"
   ]
  }
 ],
 "metadata": {
  "kernelspec": {
   "display_name": "Python 3",
   "language": "python",
   "name": "python3"
  },
  "language_info": {
   "codemirror_mode": {
    "name": "ipython",
    "version": 3
   },
   "file_extension": ".py",
   "mimetype": "text/x-python",
   "name": "python",
   "nbconvert_exporter": "python",
   "pygments_lexer": "ipython3",
   "version": "3.9.10"
  },
  "orig_nbformat": 4,
  "vscode": {
   "interpreter": {
    "hash": "aee8b7b246df8f9039afb4144a1f6fd8d2ca17a180786b69acc140d282b71a49"
   }
  }
 },
 "nbformat": 4,
 "nbformat_minor": 2
}
