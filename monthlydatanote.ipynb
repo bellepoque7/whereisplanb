{
 "cells": [
  {
   "cell_type": "code",
   "execution_count": null,
   "metadata": {},
   "outputs": [],
   "source": [
    "import importlib\n",
    "import pandas as pd\n",
    "import core.kamis as kamis\n",
    "import time\n",
    "import warnings\n",
    "warnings.filterwarnings('ignore')\n",
    "importlib.reload(kamis)\n",
    "# from core.kamis import *\n",
    "\n",
    "df_ref= pd.DataFrame({\n",
    "    '부류코드' :[100,200,200,400,400,400,400,400,400,400]\n",
    "    ,'품목코드' :[151,221,226,411,413,414,415,416,418,420]\n",
    "    ,'품목명' :['고구마','수박','딸기','사과','복숭아','포도','감귤','단감','바나나','파인애플']\n",
    "    ,'품종코드' :['00','00','00','01','01','12','01','00','00','00']\n",
    "    ,'품종명':['밤','수박','딸기','후지','백도','샤인머스캣','노지','단감','수입','수입']\n",
    "    ,'소매단위(g)':['1000','1개','100','10개','10개','2000','10개','10개','100','1개']\n",
    "    ,'도매단위(g)':['10000','1개','2000','10000','4000','2000','5000','10개','13000','12000']})\n",
    "display(df_ref)\n",
    "result = pd.DataFrame()\n",
    "\n",
    "for _, row in df_ref.iterrows():\n",
    "    try:\n",
    "        res = kamis.periodproductlist(startday = '2024-01-02', endday = '2024-12-31', category_detail_code= str(row[1])).json()\n",
    "        df = pd.json_normalize(res['data']['item'])\n",
    "        temp_df = df[(df['countyname'] =='평균') & (df['countyname'] !='-')] .sort_values('regday')\n",
    "        temp_df['품목명'] = row[2]\n",
    "        result['regday'] = pd.to_datetime('2024-' + result['regday'], format = '%Y-%m/%d')\n",
    "        result = pd.concat([result, temp_df], axis = 0)\n",
    "    except Exception as e:\n",
    "        print(e)\n",
    "        print(row[2],'에러 발생')\n",
    "\n",
    "    break\n",
    "result.to_csv(f'./result_2024_{time.now().strftime(\"%m%d_%H%M%S\")}.csv', encoding = 'utf-8-sig')"
   ]
  }
 ],
 "metadata": {
  "kernelspec": {
   "display_name": "Python 3",
   "language": "python",
   "name": "python3"
  },
  "language_info": {
   "codemirror_mode": {
    "name": "ipython",
    "version": 3
   },
   "file_extension": ".py",
   "mimetype": "text/x-python",
   "name": "python",
   "nbconvert_exporter": "python",
   "pygments_lexer": "ipython3",
   "version": "3.9.10"
  }
 },
 "nbformat": 4,
 "nbformat_minor": 2
}
