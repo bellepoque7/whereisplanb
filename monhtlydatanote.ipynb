{
 "cells": [
  {
   "cell_type": "code",
   "execution_count": 1,
   "metadata": {},
   "outputs": [
    {
     "data": {
      "text/html": [
       "<div>\n",
       "<style scoped>\n",
       "    .dataframe tbody tr th:only-of-type {\n",
       "        vertical-align: middle;\n",
       "    }\n",
       "\n",
       "    .dataframe tbody tr th {\n",
       "        vertical-align: top;\n",
       "    }\n",
       "\n",
       "    .dataframe thead th {\n",
       "        text-align: right;\n",
       "    }\n",
       "</style>\n",
       "<table border=\"1\" class=\"dataframe\">\n",
       "  <thead>\n",
       "    <tr style=\"text-align: right;\">\n",
       "      <th></th>\n",
       "      <th>부류코드</th>\n",
       "      <th>품목코드</th>\n",
       "      <th>품목명</th>\n",
       "    </tr>\n",
       "  </thead>\n",
       "  <tbody>\n",
       "    <tr>\n",
       "      <th>6</th>\n",
       "      <td>100</td>\n",
       "      <td>151</td>\n",
       "      <td>고구마</td>\n",
       "    </tr>\n",
       "    <tr>\n",
       "      <th>14</th>\n",
       "      <td>200</td>\n",
       "      <td>221</td>\n",
       "      <td>수박</td>\n",
       "    </tr>\n",
       "    <tr>\n",
       "      <th>19</th>\n",
       "      <td>200</td>\n",
       "      <td>226</td>\n",
       "      <td>딸기</td>\n",
       "    </tr>\n",
       "    <tr>\n",
       "      <th>48</th>\n",
       "      <td>400</td>\n",
       "      <td>411</td>\n",
       "      <td>사과</td>\n",
       "    </tr>\n",
       "    <tr>\n",
       "      <th>50</th>\n",
       "      <td>400</td>\n",
       "      <td>413</td>\n",
       "      <td>복숭아</td>\n",
       "    </tr>\n",
       "    <tr>\n",
       "      <th>51</th>\n",
       "      <td>400</td>\n",
       "      <td>414</td>\n",
       "      <td>포도</td>\n",
       "    </tr>\n",
       "    <tr>\n",
       "      <th>52</th>\n",
       "      <td>400</td>\n",
       "      <td>415</td>\n",
       "      <td>감귤</td>\n",
       "    </tr>\n",
       "    <tr>\n",
       "      <th>53</th>\n",
       "      <td>400</td>\n",
       "      <td>416</td>\n",
       "      <td>단감</td>\n",
       "    </tr>\n",
       "    <tr>\n",
       "      <th>54</th>\n",
       "      <td>400</td>\n",
       "      <td>418</td>\n",
       "      <td>바나나</td>\n",
       "    </tr>\n",
       "    <tr>\n",
       "      <th>56</th>\n",
       "      <td>400</td>\n",
       "      <td>420</td>\n",
       "      <td>파인애플</td>\n",
       "    </tr>\n",
       "  </tbody>\n",
       "</table>\n",
       "</div>"
      ],
      "text/plain": [
       "    부류코드  품목코드   품목명\n",
       "6    100   151   고구마\n",
       "14   200   221    수박\n",
       "19   200   226    딸기\n",
       "48   400   411    사과\n",
       "50   400   413   복숭아\n",
       "51   400   414    포도\n",
       "52   400   415    감귤\n",
       "53   400   416    단감\n",
       "54   400   418   바나나\n",
       "56   400   420  파인애플"
      ]
     },
     "execution_count": 1,
     "metadata": {},
     "output_type": "execute_result"
    }
   ],
   "source": [
    "import pandas as pd\n",
    "\n",
    "df_category = pd.read_csv(r'./refer/category_detail_code.csv',encoding = 'euc-kr')\n",
    "df_season = df_category[df_category['품목명'].isin([\"단감\", \"딸기\", \"수박\", \"복숭아\", \"사과\", \"포도\", \"감귤\", \"고구마\", \"파인애플\", \"바나나\"])]\n",
    "df_season"
   ]
  },
  {
   "cell_type": "code",
   "execution_count": 8,
   "metadata": {},
   "outputs": [
    {
     "name": "stdout",
     "output_type": "stream",
     "text": [
      "{\"condition\":[{\"p_product_cls_code\":\"02\",\"p_country_code\":[],\"p_regday\":\"2022-12-01\",\"p_convert_kg_y\n"
     ]
    },
    {
     "data": {
      "text/plain": [
       "'{\"condition\":[{\"p_product_cls_code\":\"02\",\"p_country_code\":[],\"p_regday\":\"2022-12-01\",\"p_convert_kg_yn\":\"N\",\"p_category_code\":\"1\",\"p_cert_key\":\"2783\",\"p_cert_id\":\"e4b30991-cca9-45fc-aec4-3c4e0fa0fe97\",\"p_returntype\":\"json\"}],\"data\":[\"001\"]}'"
      ]
     },
     "execution_count": 8,
     "metadata": {},
     "output_type": "execute_result"
    }
   ],
   "source": [
    "import pandas as pd\n",
    "from core import kamis \n",
    "\n",
    "kamis.dailypricecategory(category_detail_code='100').text"
   ]
  },
  {
   "cell_type": "code",
   "execution_count": 15,
   "metadata": {},
   "outputs": [
    {
     "name": "stdout",
     "output_type": "stream",
     "text": [
      "151\n",
      "{\"condition\":[{\"p_product_cls_code\":\"02\",\"p_country_code\":[],\"p_regday\":\"2022-12-01\",\"p_convert_kg_y\n",
      "{'condition': [{'p_product_cls_code': '02', 'p_country_code': [], 'p_regday': '2022-12-01', 'p_convert_kg_yn': 'N', 'p_category_code': '1', 'p_cert_key': '2783', 'p_cert_id': 'e4b30991-cca9-45fc-aec4-3c4e0fa0fe97', 'p_returntype': 'json'}], 'data': ['001']}\n"
     ]
    },
    {
     "data": {
      "text/html": [
       "<div>\n",
       "<style scoped>\n",
       "    .dataframe tbody tr th:only-of-type {\n",
       "        vertical-align: middle;\n",
       "    }\n",
       "\n",
       "    .dataframe tbody tr th {\n",
       "        vertical-align: top;\n",
       "    }\n",
       "\n",
       "    .dataframe thead th {\n",
       "        text-align: right;\n",
       "    }\n",
       "</style>\n",
       "<table border=\"1\" class=\"dataframe\">\n",
       "  <thead>\n",
       "    <tr style=\"text-align: right;\">\n",
       "      <th></th>\n",
       "      <th>condition</th>\n",
       "      <th>data</th>\n",
       "    </tr>\n",
       "  </thead>\n",
       "  <tbody>\n",
       "    <tr>\n",
       "      <th>0</th>\n",
       "      <td>[{'p_product_cls_code': '02', 'p_country_code'...</td>\n",
       "      <td>[001]</td>\n",
       "    </tr>\n",
       "  </tbody>\n",
       "</table>\n",
       "</div>"
      ],
      "text/plain": [
       "                                           condition   data\n",
       "0  [{'p_product_cls_code': '02', 'p_country_code'...  [001]"
      ]
     },
     "metadata": {},
     "output_type": "display_data"
    }
   ],
   "source": [
    "code = '151'\n",
    "for code in df_season['품목코드']:\n",
    "    print(code)\n",
    "    response = kamis.dailypricecategory(category_detail_code=str(code))\n",
    "    text = response.json()\n",
    "    print(text)\n",
    "    df = pd.json_normalize(text)\n",
    "    display(df)\n",
    "    break"
   ]
  },
  {
   "cell_type": "code",
   "execution_count": null,
   "metadata": {},
   "outputs": [],
   "source": []
  }
 ],
 "metadata": {
  "kernelspec": {
   "display_name": "Python 3",
   "language": "python",
   "name": "python3"
  },
  "language_info": {
   "codemirror_mode": {
    "name": "ipython",
    "version": 3
   },
   "file_extension": ".py",
   "mimetype": "text/x-python",
   "name": "python",
   "nbconvert_exporter": "python",
   "pygments_lexer": "ipython3",
   "version": "3.9.10"
  }
 },
 "nbformat": 4,
 "nbformat_minor": 2
}
