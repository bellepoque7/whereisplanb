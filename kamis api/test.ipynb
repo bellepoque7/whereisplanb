{
 "cells": [
  {
   "cell_type": "code",
   "execution_count": 6,
   "metadata": {},
   "outputs": [
    {
     "name": "stdout",
     "output_type": "stream",
     "text": [
      "<Element 'document' at 0x122655f40>\n"
     ]
    }
   ],
   "source": [
    "import requests\n",
    "import pandas as pd\n",
    "import numpy as np\n",
    "import xml.etree.ElementTree as ET\n",
    "import cert_info\n",
    "\n",
    "startday = '2015-10-07'\n",
    "endday = '2015-11-26'\n",
    "itemcategorycode = '200'\n",
    "itemcode = '212'\n",
    "kindcode = '00'\n",
    "productrankcode = '07'\n",
    "countycode = '1101'\n",
    "convert_kg_yn = 'Y'\n",
    "key = '111'\n",
    "id = '222'\n",
    "\n",
    "url = 'https://www.kamis.or.kr/service/price/xml.do?action=periodNaturePriceList'\n",
    "params = {\n",
    "    ('p_cert_key', cert_info.cert_key()), #인증Key\n",
    "    ('p_cert_id', cert_info.cert_id()),   #요청자id\n",
    "    ('p_returntype', 'xml'), #Return Type (json:Json 데이터 형식, xml:XML데이터형식)\n",
    "    ('p_startday', startday), #조회기간(start date)\n",
    "    ('p_endday', endday), #조회기간(end date)\n",
    "    ('p_itemcategorycode', itemcategorycode), #부류코드\n",
    "    ('p_itemcode', itemcode), #품목코드\n",
    "    ('p_kindcode', kindcode), #품종코드\n",
    "    ('p_productrankcode', productrankcode), #등급코드\n",
    "    ('p_countrycode', countycode), #시군구코드\n",
    "    ('p_covert_kg_yn', convert_kg_yn), #kg단위 환산여부\n",
    "    ('p_key', key),\n",
    "    ('p_id', id)\n",
    "    }\n",
    "response = requests.get(url, params)\n",
    "\n",
    "root = ET.fromstring(response.text)\n",
    "\n",
    "print(root) #.findall(\"price\"))\n",
    "\n",
    "# row_dict = {\n",
    "#     'seqnum':[],\n",
    "#     'countyname':[],\n",
    "#     'countyname1':[],\n",
    "#     'marketname':[],\n",
    "#     'unit':[],\n",
    "#     'regday':[],\n",
    "#     'price':[],\n",
    "#     'group_first_yn':[],\n",
    "#     'group_last_yn':[],\n",
    "#     'countyname_rowspan':[],\n",
    "#     'countyname_first_yn':[],\n",
    "#     'marketname_rowspan':[],\n",
    "#     'marketname_first_yn':[]\n",
    "# }"
   ]
  }
 ],
 "metadata": {
  "kernelspec": {
   "display_name": "Python 3",
   "language": "python",
   "name": "python3"
  },
  "language_info": {
   "codemirror_mode": {
    "name": "ipython",
    "version": 3
   },
   "file_extension": ".py",
   "mimetype": "text/x-python",
   "name": "python",
   "nbconvert_exporter": "python",
   "pygments_lexer": "ipython3",
   "version": "3.8.10"
  },
  "orig_nbformat": 4,
  "vscode": {
   "interpreter": {
    "hash": "bc1a4197466675cec4a9f42def022ee1f3de6be1346e49c8cc330c7616827b85"
   }
  }
 },
 "nbformat": 4,
 "nbformat_minor": 2
}
