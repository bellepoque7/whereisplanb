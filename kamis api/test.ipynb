import web_api_kamis as wak
import cert_info
import pandas as pd

df = pd.DataFrame()
for i in ['2022-01-01','2022-02-01','2022-03-01','2022-04-01','2022-05-01','2022-06-01','2022-07-01','2022-08-01','2022-09-01','2022-10-01','2022-11-01','2022-12-01']:
    print(i)
    # 조회날짜 기준 데이터가 없으면 함수는 False 리턴, 루프 건너뛰기
    if wak.kamis_api_1(regday = i).empty:
        continue
    # 데이터가 있는 일반적인 상황에서는 진행
    else:
        add_df = wak.kamis_api_1(regday = i)
    df = pd.concat([df,add_df])
df.index.name = 'row_num'
df.to_csv('./dailyPriceByCategoryList_2022_01~12.csv', encoding='utf-8')
df
