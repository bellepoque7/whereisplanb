import web_api_kamis as wak
import cert_info
import pandas as pd

df = wak.kamis_api_2()
df
